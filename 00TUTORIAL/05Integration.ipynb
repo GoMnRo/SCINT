{
 "cells": [
  {
   "cell_type": "markdown",
   "metadata": {},
   "source": [
    "------------------------------------------------------------------------------------------------------------------------------------------------------\n",
    "\n",
    "## INTEGRATION NOTEBOOK\n",
    "\n",
    "\n",
    "##### PLEASE! When you are done with the tutorial, move to the ```notebooks``` folder to start your own analysis \n",
    " In this way, you will be able to keep the tutorial as a reference for future use (or others to use it).\n",
    "\n",
    "------------------------------------------------------------------------------------------------------------------------------------------------------"
   ]
  },
  {
   "cell_type": "code",
   "execution_count": 1,
   "metadata": {},
   "outputs": [
    {
     "name": "stdout",
     "output_type": "stream",
     "text": [
      "You don't have latex installed. Changing default configuration to tex=False\n"
     ]
    }
   ],
   "source": [
    "import sys; sys.path.insert(0, '../'); from lib import *;\n",
    "figure_features()"
   ]
  },
  {
   "cell_type": "code",
   "execution_count": 2,
   "metadata": {},
   "outputs": [
    {
     "name": "stdout",
     "output_type": "stream",
     "text": [
      "{'CALIB_RUNS': 113, 'NOISE_RUNS': 114}\n",
      "\u001b[92mload_npy --> DONE!\n",
      "\u001b[0m\n",
      "\u001b[92mload_npy --> DONE!\n",
      "\u001b[0m\n",
      "\u001b[92mload_npy --> DONE!\n",
      "\u001b[0m\n",
      "\u001b[92mload_npy --> DONE!\n",
      "\u001b[0m\n"
     ]
    }
   ],
   "source": [
    "INPUT_FILE = \"MegaCell_LAr\"; OV = 1; PRESET =\"ALL\"\n",
    "info = read_input_file(INPUT_FILE)  # Read input file\n",
    "channels = [0,1]\n",
    "\n",
    "#-------------------------------- LOAD RUNS ---------------------------------#\n",
    "run_keys = [\"CALIB_RUNS\",\"ALPHA_RUNS\",\"MUONS_RUNS\",\"NOISE_RUNS\"]\n",
    "nruns = dict.fromkeys(run_keys)\n",
    "for key in run_keys:\n",
    "    try:               nruns[key] = info[key][OV] # Store runs in dictionary\n",
    "    except IndexError: nruns.pop(key)\n",
    "print(nruns)\n",
    "\n",
    "runs = dict.fromkeys(nruns.keys())\n",
    "for run in runs: runs[run] = load_npy(np.asarray([nruns[run]]).astype(int),np.asarray(channels).astype(int),preset=PRESET,info=info,compressed=True)\n",
    "#----------------------------------------------------------------------------#"
   ]
  },
  {
   "cell_type": "code",
   "execution_count": null,
   "metadata": {},
   "outputs": [],
   "source": []
  }
 ],
 "metadata": {
  "kernelspec": {
   "display_name": ".venv",
   "language": "python",
   "name": "python3"
  },
  "language_info": {
   "codemirror_mode": {
    "name": "ipython",
    "version": 3
   },
   "file_extension": ".py",
   "mimetype": "text/x-python",
   "name": "python",
   "nbconvert_exporter": "python",
   "pygments_lexer": "ipython3",
   "version": "3.7.3"
  },
  "orig_nbformat": 4
 },
 "nbformat": 4,
 "nbformat_minor": 2
}
